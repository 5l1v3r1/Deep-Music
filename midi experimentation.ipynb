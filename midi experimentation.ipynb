{
 "cells": [
  {
   "cell_type": "code",
   "execution_count": 1,
   "metadata": {
    "collapsed": true
   },
   "outputs": [],
   "source": [
    "import midi\n",
    "import numpy as np"
   ]
  },
  {
   "cell_type": "code",
   "execution_count": 6,
   "metadata": {
    "collapsed": false
   },
   "outputs": [
    {
     "name": "stdout",
     "output_type": "stream",
     "text": [
      "midi.Pattern(format=1, resolution=960, tracks=\\\n",
      "[midi.Track(\\\n",
      "  [midi.SetTempoEvent(tick=0, data=[7, 161, 32]),\n",
      "   midi.KeySignatureEvent(tick=0, data=[0, 0]),\n",
      "   midi.TimeSignatureEvent(tick=0, data=[4, 2, 24, 8]),\n",
      "   midi.EndOfTrackEvent(tick=0, data=[])]),\n",
      " midi.Track(\\\n",
      "  [midi.ControlChangeEvent(tick=0, channel=0, data=[0, 0]),\n",
      "   midi.ControlChangeEvent(tick=0, channel=0, data=[32, 0]),\n",
      "   midi.ProgramChangeEvent(tick=0, channel=0, data=[0]),\n",
      "   midi.TrackNameEvent(tick=0, text='Untitled\\x00', data=[85, 110, 116, 105, 116, 108, 101, 100, 0]),\n",
      "   midi.ControlChangeEvent(tick=0, channel=0, data=[7, 127]),\n",
      "   midi.ControlChangeEvent(tick=0, channel=0, data=[0, 0]),\n",
      "   midi.ControlChangeEvent(tick=0, channel=0, data=[32, 0]),\n",
      "   midi.ControlChangeEvent(tick=0, channel=0, data=[7, 127]),\n",
      "   midi.NoteOnEvent(tick=0, channel=0, data=[72, 80]),\n",
      "   midi.NoteOffEvent(tick=960, channel=0, data=[72, 0]),\n",
      "   midi.NoteOnEvent(tick=0, channel=0, data=[74, 80]),\n",
      "   midi.NoteOffEvent(tick=960, channel=0, data=[74, 0]),\n",
      "   midi.NoteOnEvent(tick=0, channel=0, data=[76, 80]),\n",
      "   midi.NoteOffEvent(tick=960, channel=0, data=[76, 0]),\n",
      "   midi.NoteOnEvent(tick=0, channel=0, data=[77, 80]),\n",
      "   midi.NoteOffEvent(tick=960, channel=0, data=[77, 0]),\n",
      "   midi.NoteOnEvent(tick=0, channel=0, data=[79, 80]),\n",
      "   midi.NoteOffEvent(tick=960, channel=0, data=[79, 0]),\n",
      "   midi.NoteOnEvent(tick=0, channel=0, data=[81, 80]),\n",
      "   midi.NoteOffEvent(tick=960, channel=0, data=[81, 0]),\n",
      "   midi.NoteOnEvent(tick=0, channel=0, data=[83, 80]),\n",
      "   midi.NoteOffEvent(tick=960, channel=0, data=[83, 0]),\n",
      "   midi.NoteOnEvent(tick=0, channel=0, data=[84, 80]),\n",
      "   midi.NoteOffEvent(tick=960, channel=0, data=[84, 0]),\n",
      "   midi.EndOfTrackEvent(tick=0, data=[])]),\n",
      " midi.Track(\\\n",
      "  [midi.ControlChangeEvent(tick=0, channel=1, data=[0, 0]),\n",
      "   midi.ControlChangeEvent(tick=0, channel=1, data=[32, 0]),\n",
      "   midi.ProgramChangeEvent(tick=0, channel=1, data=[1]),\n",
      "   midi.TrackNameEvent(tick=0, text='Untitled\\x00', data=[85, 110, 116, 105, 116, 108, 101, 100, 0]),\n",
      "   midi.ControlChangeEvent(tick=0, channel=1, data=[7, 127]),\n",
      "   midi.NoteOnEvent(tick=0, channel=1, data=[84, 80]),\n",
      "   midi.NoteOffEvent(tick=960, channel=1, data=[84, 0]),\n",
      "   midi.NoteOnEvent(tick=0, channel=1, data=[83, 80]),\n",
      "   midi.NoteOffEvent(tick=960, channel=1, data=[83, 0]),\n",
      "   midi.NoteOnEvent(tick=0, channel=1, data=[81, 80]),\n",
      "   midi.NoteOffEvent(tick=960, channel=1, data=[81, 0]),\n",
      "   midi.NoteOnEvent(tick=0, channel=1, data=[79, 80]),\n",
      "   midi.NoteOffEvent(tick=960, channel=1, data=[79, 0]),\n",
      "   midi.NoteOnEvent(tick=0, channel=1, data=[77, 80]),\n",
      "   midi.NoteOffEvent(tick=960, channel=1, data=[77, 0]),\n",
      "   midi.NoteOnEvent(tick=0, channel=1, data=[76, 80]),\n",
      "   midi.NoteOffEvent(tick=960, channel=1, data=[76, 0]),\n",
      "   midi.NoteOnEvent(tick=0, channel=1, data=[74, 80]),\n",
      "   midi.NoteOffEvent(tick=960, channel=1, data=[74, 0]),\n",
      "   midi.NoteOnEvent(tick=0, channel=1, data=[72, 80]),\n",
      "   midi.NoteOffEvent(tick=960, channel=1, data=[72, 0]),\n",
      "   midi.EndOfTrackEvent(tick=0, data=[])]),\n",
      " midi.Track(\\\n",
      "  [midi.ControlChangeEvent(tick=0, channel=2, data=[0, 0]),\n",
      "   midi.ControlChangeEvent(tick=0, channel=2, data=[32, 0]),\n",
      "   midi.ProgramChangeEvent(tick=0, channel=2, data=[8]),\n",
      "   midi.TrackNameEvent(tick=0, text='Untitled\\x00', data=[85, 110, 116, 105, 116, 108, 101, 100, 0]),\n",
      "   midi.ControlChangeEvent(tick=0, channel=2, data=[7, 127]),\n",
      "   midi.NoteOnEvent(tick=0, channel=2, data=[66, 80]),\n",
      "   midi.NoteOnEvent(tick=960, channel=2, data=[68, 80]),\n",
      "   midi.NoteOffEvent(tick=480, channel=2, data=[68, 0]),\n",
      "   midi.NoteOnEvent(tick=1440, channel=2, data=[68, 80]),\n",
      "   midi.NoteOffEvent(tick=480, channel=2, data=[68, 0]),\n",
      "   midi.NoteOffEvent(tick=480, channel=2, data=[66, 0]),\n",
      "   midi.NoteOnEvent(tick=0, channel=2, data=[64, 80]),\n",
      "   midi.NoteOnEvent(tick=960, channel=2, data=[66, 80]),\n",
      "   midi.NoteOffEvent(tick=480, channel=2, data=[66, 0]),\n",
      "   midi.NoteOnEvent(tick=1440, channel=2, data=[66, 80]),\n",
      "   midi.NoteOffEvent(tick=480, channel=2, data=[66, 0]),\n",
      "   midi.NoteOffEvent(tick=480, channel=2, data=[64, 0]),\n",
      "   midi.EndOfTrackEvent(tick=0, data=[])])])\n"
     ]
    }
   ],
   "source": [
    "pattern = midi.read_midifile('scale2.mid')\n",
    "print pattern"
   ]
  },
  {
   "cell_type": "code",
   "execution_count": 5,
   "metadata": {
    "collapsed": true
   },
   "outputs": [],
   "source": [
    "midi.write_midifile(\"example.mid\", pattern)"
   ]
  },
  {
   "cell_type": "code",
   "execution_count": 7,
   "metadata": {
    "collapsed": false
   },
   "outputs": [
    {
     "name": "stdout",
     "output_type": "stream",
     "text": [
      "midi.Pattern(format=1, resolution=960, tracks=\\\n",
      "[midi.Track(\\\n",
      "  [midi.SetTempoEvent(tick=0, data=[4, 147, 224]),\n",
      "   midi.KeySignatureEvent(tick=0, data=[0, 0]),\n",
      "   midi.TimeSignatureEvent(tick=0, data=[3, 2, 24, 8]),\n",
      "   midi.EndOfTrackEvent(tick=0, data=[])]),\n",
      " midi.Track(\\\n",
      "  [midi.ControlChangeEvent(tick=0, channel=0, data=[0, 0]),\n",
      "   midi.ControlChangeEvent(tick=0, channel=0, data=[32, 0]),\n",
      "   midi.ProgramChangeEvent(tick=0, channel=0, data=[0]),\n",
      "   midi.TrackNameEvent(tick=0, text='Untitled\\x00', data=[85, 110, 116, 105, 116, 108, 101, 100, 0]),\n",
      "   midi.ControlChangeEvent(tick=0, channel=0, data=[7, 127]),\n",
      "   midi.ControlChangeEvent(tick=0, channel=0, data=[0, 0]),\n",
      "   midi.ControlChangeEvent(tick=0, channel=0, data=[32, 0]),\n",
      "   midi.ControlChangeEvent(tick=0, channel=0, data=[7, 127]),\n",
      "   midi.NoteOnEvent(tick=0, channel=0, data=[72, 80]),\n",
      "   midi.NoteOffEvent(tick=960, channel=0, data=[72, 0]),\n",
      "   midi.NoteOnEvent(tick=0, channel=0, data=[74, 80]),\n",
      "   midi.NoteOffEvent(tick=960, channel=0, data=[74, 0]),\n",
      "   midi.NoteOnEvent(tick=0, channel=0, data=[76, 80]),\n",
      "   midi.NoteOffEvent(tick=960, channel=0, data=[76, 0]),\n",
      "   midi.NoteOnEvent(tick=0, channel=0, data=[77, 80]),\n",
      "   midi.NoteOffEvent(tick=960, channel=0, data=[77, 0]),\n",
      "   midi.NoteOnEvent(tick=0, channel=0, data=[79, 80]),\n",
      "   midi.NoteOffEvent(tick=960, channel=0, data=[79, 0]),\n",
      "   midi.NoteOnEvent(tick=0, channel=0, data=[81, 80]),\n",
      "   midi.NoteOffEvent(tick=960, channel=0, data=[81, 0]),\n",
      "   midi.NoteOnEvent(tick=0, channel=0, data=[83, 80]),\n",
      "   midi.NoteOffEvent(tick=960, channel=0, data=[83, 0]),\n",
      "   midi.NoteOnEvent(tick=0, channel=0, data=[84, 80]),\n",
      "   midi.NoteOffEvent(tick=960, channel=0, data=[84, 0]),\n",
      "   midi.EndOfTrackEvent(tick=0, data=[])]),\n",
      " midi.Track(\\\n",
      "  [midi.ControlChangeEvent(tick=0, channel=1, data=[0, 0]),\n",
      "   midi.ControlChangeEvent(tick=0, channel=1, data=[32, 0]),\n",
      "   midi.ProgramChangeEvent(tick=0, channel=1, data=[1]),\n",
      "   midi.TrackNameEvent(tick=0, text='Untitled\\x00', data=[85, 110, 116, 105, 116, 108, 101, 100, 0]),\n",
      "   midi.ControlChangeEvent(tick=0, channel=1, data=[7, 127]),\n",
      "   midi.NoteOnEvent(tick=0, channel=1, data=[84, 80]),\n",
      "   midi.NoteOffEvent(tick=960, channel=1, data=[84, 0]),\n",
      "   midi.NoteOnEvent(tick=0, channel=1, data=[83, 80]),\n",
      "   midi.NoteOffEvent(tick=960, channel=1, data=[83, 0]),\n",
      "   midi.NoteOnEvent(tick=0, channel=1, data=[81, 80]),\n",
      "   midi.NoteOffEvent(tick=960, channel=1, data=[81, 0]),\n",
      "   midi.NoteOnEvent(tick=0, channel=1, data=[79, 80]),\n",
      "   midi.NoteOffEvent(tick=960, channel=1, data=[79, 0]),\n",
      "   midi.NoteOnEvent(tick=0, channel=1, data=[77, 80]),\n",
      "   midi.NoteOffEvent(tick=960, channel=1, data=[77, 0]),\n",
      "   midi.NoteOnEvent(tick=0, channel=1, data=[76, 80]),\n",
      "   midi.NoteOffEvent(tick=960, channel=1, data=[76, 0]),\n",
      "   midi.NoteOnEvent(tick=0, channel=1, data=[74, 80]),\n",
      "   midi.NoteOffEvent(tick=960, channel=1, data=[74, 0]),\n",
      "   midi.NoteOnEvent(tick=0, channel=1, data=[72, 80]),\n",
      "   midi.NoteOffEvent(tick=960, channel=1, data=[72, 0]),\n",
      "   midi.EndOfTrackEvent(tick=0, data=[])]),\n",
      " midi.Track(\\\n",
      "  [midi.ControlChangeEvent(tick=0, channel=2, data=[0, 0]),\n",
      "   midi.ControlChangeEvent(tick=0, channel=2, data=[32, 0]),\n",
      "   midi.ProgramChangeEvent(tick=0, channel=2, data=[8]),\n",
      "   midi.TrackNameEvent(tick=0, text='Untitled\\x00', data=[85, 110, 116, 105, 116, 108, 101, 100, 0]),\n",
      "   midi.ControlChangeEvent(tick=0, channel=2, data=[7, 127]),\n",
      "   midi.NoteOnEvent(tick=0, channel=2, data=[66, 80]),\n",
      "   midi.NoteOnEvent(tick=960, channel=2, data=[68, 80]),\n",
      "   midi.NoteOffEvent(tick=480, channel=2, data=[68, 0]),\n",
      "   midi.NoteOnEvent(tick=1440, channel=2, data=[68, 80]),\n",
      "   midi.NoteOffEvent(tick=480, channel=2, data=[68, 0]),\n",
      "   midi.NoteOffEvent(tick=480, channel=2, data=[66, 0]),\n",
      "   midi.NoteOnEvent(tick=0, channel=2, data=[64, 80]),\n",
      "   midi.NoteOnEvent(tick=960, channel=2, data=[66, 80]),\n",
      "   midi.NoteOffEvent(tick=480, channel=2, data=[66, 0]),\n",
      "   midi.NoteOnEvent(tick=1440, channel=2, data=[66, 80]),\n",
      "   midi.NoteOffEvent(tick=480, channel=2, data=[66, 0]),\n",
      "   midi.NoteOffEvent(tick=480, channel=2, data=[64, 0]),\n",
      "   midi.EndOfTrackEvent(tick=0, data=[])])])\n"
     ]
    }
   ],
   "source": [
    "pattern3 = midi.read_midifile('tempo.mid')\n",
    "print pattern3"
   ]
  },
  {
   "cell_type": "code",
   "execution_count": 3,
   "metadata": {
    "collapsed": false
   },
   "outputs": [
    {
     "name": "stdout",
     "output_type": "stream",
     "text": [
      "midi.Pattern(format=1, resolution=960, tracks=\\\n",
      "[midi.Track(\\\n",
      "  [midi.SetTempoEvent(tick=0, data=[4, 147, 224]),\n",
      "   midi.KeySignatureEvent(tick=0, data=[0, 0]),\n",
      "   midi.TimeSignatureEvent(tick=0, data=[4, 2, 24, 8]),\n",
      "   midi.EndOfTrackEvent(tick=0, data=[])]),\n",
      " midi.Track(\\\n",
      "  [midi.ControlChangeEvent(tick=0, channel=0, data=[0, 0]),\n",
      "   midi.ControlChangeEvent(tick=0, channel=0, data=[32, 0]),\n",
      "   midi.ProgramChangeEvent(tick=0, channel=0, data=[8]),\n",
      "   midi.TrackNameEvent(tick=0, text='Untitled\\x00', data=[85, 110, 116, 105, 116, 108, 101, 100, 0]),\n",
      "   midi.ControlChangeEvent(tick=0, channel=0, data=[7, 127]),\n",
      "   midi.ControlChangeEvent(tick=0, channel=0, data=[0, 0]),\n",
      "   midi.ControlChangeEvent(tick=0, channel=0, data=[32, 0]),\n",
      "   midi.ControlChangeEvent(tick=0, channel=0, data=[7, 127]),\n",
      "   midi.NoteOnEvent(tick=0, channel=0, data=[69, 80]),\n",
      "   midi.NoteOnEvent(tick=0, channel=0, data=[71, 80]),\n",
      "   midi.NoteOnEvent(tick=240, channel=0, data=[73, 80]),\n",
      "   midi.NoteOffEvent(tick=240, channel=0, data=[73, 0]),\n",
      "   midi.NoteOnEvent(tick=240, channel=0, data=[73, 80]),\n",
      "   midi.NoteOffEvent(tick=240, channel=0, data=[71, 0]),\n",
      "   midi.NoteOffEvent(tick=0, channel=0, data=[73, 0]),\n",
      "   midi.NoteOnEvent(tick=0, channel=0, data=[71, 80]),\n",
      "   midi.NoteOnEvent(tick=240, channel=0, data=[73, 80]),\n",
      "   midi.NoteOffEvent(tick=240, channel=0, data=[73, 0]),\n",
      "   midi.NoteOnEvent(tick=240, channel=0, data=[73, 80]),\n",
      "   midi.NoteOffEvent(tick=240, channel=0, data=[71, 0]),\n",
      "   midi.NoteOffEvent(tick=0, channel=0, data=[73, 0]),\n",
      "   midi.NoteOnEvent(tick=0, channel=0, data=[71, 80]),\n",
      "   midi.NoteOnEvent(tick=240, channel=0, data=[73, 80]),\n",
      "   midi.NoteOffEvent(tick=240, channel=0, data=[73, 0]),\n",
      "   midi.NoteOnEvent(tick=240, channel=0, data=[73, 80]),\n",
      "   midi.NoteOffEvent(tick=240, channel=0, data=[71, 0]),\n",
      "   midi.NoteOffEvent(tick=0, channel=0, data=[73, 0]),\n",
      "   midi.NoteOnEvent(tick=0, channel=0, data=[71, 80]),\n",
      "   midi.NoteOnEvent(tick=240, channel=0, data=[73, 80]),\n",
      "   midi.NoteOffEvent(tick=240, channel=0, data=[73, 0]),\n",
      "   midi.NoteOnEvent(tick=240, channel=0, data=[73, 80]),\n",
      "   midi.NoteOffEvent(tick=240, channel=0, data=[69, 0]),\n",
      "   midi.NoteOffEvent(tick=0, channel=0, data=[71, 0]),\n",
      "   midi.NoteOffEvent(tick=0, channel=0, data=[73, 0]),\n",
      "   midi.ControlChangeEvent(tick=7679, channel=0, data=[127, 0]),\n",
      "   midi.EndOfTrackEvent(tick=0, data=[])])])\n"
     ]
    }
   ],
   "source": [
    "pattern3 = midi.read_midifile('tempo.mid')\n",
    "print pattern3"
   ]
  },
  {
   "cell_type": "code",
   "execution_count": 4,
   "metadata": {
    "collapsed": false
   },
   "outputs": [
    {
     "name": "stdout",
     "output_type": "stream",
     "text": [
      "midi.Pattern(format=1, resolution=960, tracks=\\\n",
      "[midi.Track(\\\n",
      "  [midi.SetTempoEvent(tick=0, data=[4, 147, 224]),\n",
      "   midi.KeySignatureEvent(tick=0, data=[0, 0]),\n",
      "   midi.TimeSignatureEvent(tick=0, data=[4, 2, 24, 8]),\n",
      "   midi.EndOfTrackEvent(tick=0, data=[])]),\n",
      " midi.Track(\\\n",
      "  [midi.ControlChangeEvent(tick=0, channel=0, data=[0, 0]),\n",
      "   midi.ControlChangeEvent(tick=0, channel=0, data=[32, 0]),\n",
      "   midi.ProgramChangeEvent(tick=0, channel=0, data=[8]),\n",
      "   midi.TrackNameEvent(tick=0, text='Untitled\\x00', data=[85, 110, 116, 105, 116, 108, 101, 100, 0]),\n",
      "   midi.ControlChangeEvent(tick=0, channel=0, data=[7, 127]),\n",
      "   midi.ControlChangeEvent(tick=0, channel=0, data=[0, 0]),\n",
      "   midi.ControlChangeEvent(tick=0, channel=0, data=[32, 0]),\n",
      "   midi.ControlChangeEvent(tick=0, channel=0, data=[7, 127]),\n",
      "   midi.NoteOnEvent(tick=0, channel=0, data=[71, 80]),\n",
      "   midi.NoteOnEvent(tick=0, channel=0, data=[69, 80]),\n",
      "   midi.NoteOffEvent(tick=960, channel=0, data=[71, 0]),\n",
      "   midi.NoteOnEvent(tick=1920, channel=0, data=[71, 80]),\n",
      "   midi.NoteOffEvent(tick=960, channel=0, data=[69, 0]),\n",
      "   midi.NoteOffEvent(tick=0, channel=0, data=[71, 0]),\n",
      "   midi.ControlChangeEvent(tick=7679, channel=0, data=[127, 0]),\n",
      "   midi.EndOfTrackEvent(tick=0, data=[])])])\n"
     ]
    }
   ],
   "source": [
    "pattern3 = midi.read_midifile('simple.mid')\n",
    "print pattern3"
   ]
  },
  {
   "cell_type": "code",
   "execution_count": 81,
   "metadata": {
    "collapsed": false
   },
   "outputs": [],
   "source": [
    "class MidiContainer:\n",
    "    '''\n",
    "    The MidiContainer class contains a vector representation of \n",
    "    the midi track to be fed to our neural net. It is a 67 x n matrix,\n",
    "    contents specified in the README. \n",
    "    '''\n",
    "    def __init__(self):\n",
    "        self.data = np.array([], dtype=np.int64).reshape(7,0) #todo change this to 3+16*4\n",
    "        self.curr_bpm = 120\n",
    "        self.curr_instrument = 0\n",
    "        self.abs_time = 0\n",
    "        self.active_pitches = {} #[pitch] = (velocity, time note was turned on)\n",
    "        \n",
    "    def note_to_vector(self, pitch, time):\n",
    "        velocity = self.active_pitches[pitch][0]\n",
    "        note_start = self.active_pitches[pitch][1]\n",
    "        return np.vstack((self.curr_instrument, pitch, velocity, time + self.abs_time - note_start))\n",
    "    \n",
    "    def add_data(self, note_vector, note_start):\n",
    "        print 'for note ', note_vector , ' and start ', note_start , ' and abs time ', self.abs_time\n",
    "        event_column = np.vstack((note_start, self.curr_bpm, note_vector,self.abs_time))\n",
    "        self.data = np.hstack((self.data, event_column))\n",
    "    "
   ]
  },
  {
   "cell_type": "code",
   "execution_count": 82,
   "metadata": {
    "collapsed": false
   },
   "outputs": [],
   "source": [
    "def midi_to_vector(fname):\n",
    "    '''\n",
    "    Given a filename of a midi to read, returns a MidiContainer object of its vector representation.\n",
    "    '''\n",
    "    pattern = midi.read_midifile(fname)\n",
    "    midi_vector = MidiContainer()\n",
    "    for track in pattern:\n",
    "        print 'start track!'\n",
    "        for event in track:\n",
    "            print 'event: ', event\n",
    "            if isinstance(event, midi.SetTempoEvent): \n",
    "                midi_vector.curr_bpm = event.get_bpm()\n",
    "            if isinstance(event, midi.EndOfTrackEvent): #first metadata track\n",
    "                continue \n",
    "            if isinstance(event, midi.ProgramChangeEvent):\n",
    "                midi_vector.curr_instrument = event.get_value()\n",
    "            if isinstance(event, midi.NoteOnEvent):\n",
    "                midi_vector.abs_time += event.tick\n",
    "                midi_vector.active_pitches[event.get_pitch()] = (event.get_velocity(), midi_vector.abs_time)\n",
    "                print 'on abs time now ', midi_vector.abs_time\n",
    "                print 'on pitches is ', midi_vector.active_pitches\n",
    "            if isinstance(event, midi.NoteOffEvent):\n",
    "                pitch = event.get_pitch()\n",
    "                time = event.tick\n",
    "                print 'time is ', time \n",
    "                if pitch in midi_vector.active_pitches:\n",
    "                    note_vec = midi_vector.note_to_vector(pitch, time)\n",
    "                    midi_vector.add_data(note_vec, midi_vector.active_pitches[pitch][1]) #ugh bad data abstraction\n",
    "                    midi_vector.active_pitches.pop(pitch, None)\n",
    "                    midi_vector.abs_time += event.tick\n",
    "                    print 'off abs time now ', midi_vector.abs_time\n",
    "                \n",
    "            \n",
    "    return midi_vector"
   ]
  },
  {
   "cell_type": "code",
   "execution_count": 83,
   "metadata": {
    "collapsed": false,
    "scrolled": true
   },
   "outputs": [
    {
     "name": "stdout",
     "output_type": "stream",
     "text": [
      "start track!\n",
      "event:  midi.SetTempoEvent(tick=0, data=[4, 147, 224])\n",
      "event:  midi.KeySignatureEvent(tick=0, data=[0, 0])\n",
      "event:  midi.TimeSignatureEvent(tick=0, data=[4, 2, 24, 8])\n",
      "event:  midi.EndOfTrackEvent(tick=0, data=[])\n",
      "start track!\n",
      "event:  midi.ControlChangeEvent(tick=0, channel=0, data=[0, 0])\n",
      "event:  midi.ControlChangeEvent(tick=0, channel=0, data=[32, 0])\n",
      "event:  midi.ProgramChangeEvent(tick=0, channel=0, data=[8])\n",
      "event:  midi.TrackNameEvent(tick=0, text='Untitled\\x00', data=[85, 110, 116, 105, 116, 108, 101, 100, 0])\n",
      "event:  midi.ControlChangeEvent(tick=0, channel=0, data=[7, 127])\n",
      "event:  midi.ControlChangeEvent(tick=0, channel=0, data=[0, 0])\n",
      "event:  midi.ControlChangeEvent(tick=0, channel=0, data=[32, 0])\n",
      "event:  midi.ControlChangeEvent(tick=0, channel=0, data=[7, 127])\n",
      "event:  midi.NoteOnEvent(tick=0, channel=0, data=[71, 80])\n",
      "on abs time now  0\n",
      "on pitches is  {71: (80, 0)}\n",
      "event:  midi.NoteOnEvent(tick=0, channel=0, data=[69, 80])\n",
      "on abs time now  0\n",
      "on pitches is  {69: (80, 0), 71: (80, 0)}\n",
      "event:  midi.NoteOffEvent(tick=960, channel=0, data=[71, 0])\n",
      "time is  960\n",
      "for note  [[  8]\n",
      " [ 71]\n",
      " [ 80]\n",
      " [960]]  and start  0  and abs time  0\n",
      "off abs time now  960\n",
      "event:  midi.NoteOnEvent(tick=1920, channel=0, data=[71, 80])\n",
      "on abs time now  2880\n",
      "on pitches is  {69: (80, 0), 71: (80, 2880)}\n",
      "event:  midi.NoteOffEvent(tick=960, channel=0, data=[69, 0])\n",
      "time is  960\n",
      "for note  [[   8]\n",
      " [  69]\n",
      " [  80]\n",
      " [3840]]  and start  0  and abs time  2880\n",
      "off abs time now  3840\n",
      "event:  midi.NoteOffEvent(tick=0, channel=0, data=[71, 0])\n",
      "time is  0\n",
      "for note  [[  8]\n",
      " [ 71]\n",
      " [ 80]\n",
      " [960]]  and start  2880  and abs time  3840\n",
      "off abs time now  3840\n",
      "event:  midi.ControlChangeEvent(tick=7679, channel=0, data=[127, 0])\n",
      "event:  midi.EndOfTrackEvent(tick=0, data=[])\n",
      "[[    0.     0.  2880.]\n",
      " [  200.   200.   200.]\n",
      " [    8.     8.     8.]\n",
      " [   71.    69.    71.]\n",
      " [   80.    80.    80.]\n",
      " [  960.  3840.   960.]\n",
      " [    0.  2880.  3840.]]\n"
     ]
    }
   ],
   "source": [
    "a = midi_to_vector('simple.mid')\n",
    "print a.data"
   ]
  },
  {
   "cell_type": "code",
   "execution_count": 65,
   "metadata": {
    "collapsed": false
   },
   "outputs": [
    {
     "name": "stdout",
     "output_type": "stream",
     "text": [
      "midi.Pattern(format=1, resolution=960, tracks=\\\n",
      "[midi.Track(\\\n",
      "  [midi.SetTempoEvent(tick=0, data=[4, 147, 224]),\n",
      "   midi.KeySignatureEvent(tick=0, data=[0, 0]),\n",
      "   midi.TimeSignatureEvent(tick=0, data=[4, 2, 24, 8]),\n",
      "   midi.EndOfTrackEvent(tick=0, data=[])]),\n",
      " midi.Track(\\\n",
      "  [midi.ControlChangeEvent(tick=0, channel=0, data=[0, 0]),\n",
      "   midi.ControlChangeEvent(tick=0, channel=0, data=[32, 0]),\n",
      "   midi.ProgramChangeEvent(tick=0, channel=0, data=[8]),\n",
      "   midi.TrackNameEvent(tick=0, text='Untitled\\x00', data=[85, 110, 116, 105, 116, 108, 101, 100, 0]),\n",
      "   midi.ControlChangeEvent(tick=0, channel=0, data=[7, 127]),\n",
      "   midi.ControlChangeEvent(tick=0, channel=0, data=[0, 0]),\n",
      "   midi.ControlChangeEvent(tick=0, channel=0, data=[32, 0]),\n",
      "   midi.ControlChangeEvent(tick=0, channel=0, data=[7, 127]),\n",
      "   midi.NoteOnEvent(tick=0, channel=0, data=[71, 80]),\n",
      "   midi.NoteOnEvent(tick=0, channel=0, data=[69, 80]),\n",
      "   midi.NoteOffEvent(tick=960, channel=0, data=[71, 0]),\n",
      "   midi.NoteOnEvent(tick=1920, channel=0, data=[71, 80]),\n",
      "   midi.NoteOffEvent(tick=960, channel=0, data=[69, 0]),\n",
      "   midi.NoteOffEvent(tick=0, channel=0, data=[71, 0]),\n",
      "   midi.ControlChangeEvent(tick=7679, channel=0, data=[127, 0]),\n",
      "   midi.EndOfTrackEvent(tick=0, data=[])])])\n"
     ]
    }
   ],
   "source": [
    "pattern3 = midi.read_midifile('simple.mid')\n",
    "print pattern3"
   ]
  },
  {
   "cell_type": "code",
   "execution_count": null,
   "metadata": {
    "collapsed": true
   },
   "outputs": [],
   "source": []
  },
  {
   "cell_type": "code",
   "execution_count": null,
   "metadata": {
    "collapsed": true
   },
   "outputs": [],
   "source": []
  }
 ],
 "metadata": {
  "kernelspec": {
   "display_name": "Python 2",
   "language": "python",
   "name": "python2"
  },
  "language_info": {
   "codemirror_mode": {
    "name": "ipython",
    "version": 2
   },
   "file_extension": ".py",
   "mimetype": "text/x-python",
   "name": "python",
   "nbconvert_exporter": "python",
   "pygments_lexer": "ipython2",
   "version": "2.7.11"
  }
 },
 "nbformat": 4,
 "nbformat_minor": 1
}
