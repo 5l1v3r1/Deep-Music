{
 "cells": [
  {
   "cell_type": "code",
   "execution_count": 15,
   "metadata": {
    "collapsed": true
   },
   "outputs": [],
   "source": [
    "import os\n",
    "import h5py\n",
    "import numpy as np"
   ]
  },
  {
   "cell_type": "code",
   "execution_count": 16,
   "metadata": {
    "collapsed": false
   },
   "outputs": [],
   "source": [
    "tracks = []\n",
    "for file in os.listdir(\"data/classical/\"):\n",
    "    if file.endswith(\".h5\"):\n",
    "        h5f = h5py.File('data/classical/' + file, 'r')\n",
    "        tracks.append(np.transpose(h5f['dataset_1'][:]))\n",
    "h5f.close()"
   ]
  },
  {
   "cell_type": "code",
   "execution_count": 161,
   "metadata": {
    "collapsed": true
   },
   "outputs": [],
   "source": [
    "X_train = []\n",
    "Y_train = []\n",
    "for track in tracks:\n",
    "    track[1:,0] = np.diff(track[:,0]) # absolute to relative timing\n",
    "    track[:,0] = track[:,0]/np.max(track[:,0]) # normalize timing to [0,1]\n",
    "    track[:,3] = track[:,3]/127.0 # normalize note to [0,1]\n",
    "    track[:,4] = track[:,4]/127.0 # normalize velocity to [0,1]\n",
    "    track[:,5] = track[:,5]/np.max(track[:,5]) # normalize duration to [0,1]\n",
    "    for event_idx in range(10,track.shape[0]):\n",
    "        X_train.append(track[event_idx-10:event_idx,[0,3,4,5]])\n",
    "        Y_train.append(track[event_idx,[0,3,4,5]])"
   ]
  },
  {
   "cell_type": "code",
   "execution_count": 162,
   "metadata": {
    "collapsed": true
   },
   "outputs": [],
   "source": [
    "np.save('X_train',X_train)\n",
    "np.save('Y_train',Y_train)"
   ]
  },
  {
   "cell_type": "code",
   "execution_count": 43,
   "metadata": {
    "collapsed": false
   },
   "outputs": [
    {
     "name": "stdout",
     "output_type": "stream",
     "text": [
      "21.0\n",
      "2.0\n",
      "3.0\n",
      "7.0\n",
      "7.0\n",
      "7.0\n",
      "7.0\n",
      "126.0\n",
      "24.0\n",
      "23.0\n",
      "59.0\n",
      "58.0\n",
      "74.0\n",
      "108.0\n",
      "2.0\n",
      "2.0\n",
      "2.0\n",
      "24.0\n"
     ]
    }
   ],
   "source": [
    "for track in tracks: \n",
    "    print np.max(track[:,2])\n",
    "    #print np.max(np.diff(track[:,0]))"
   ]
  },
  {
   "cell_type": "code",
   "execution_count": null,
   "metadata": {
    "collapsed": true
   },
   "outputs": [],
   "source": []
  },
  {
   "cell_type": "code",
   "execution_count": 1,
   "metadata": {
    "collapsed": false
   },
   "outputs": [
    {
     "name": "stderr",
     "output_type": "stream",
     "text": [
      "Using TensorFlow backend.\n"
     ]
    }
   ],
   "source": [
    "import numpy as np\n",
    "from keras.models import Sequential\n",
    "from keras.optimizers import RMSprop\n",
    "from keras.layers import Dense, Dropout, Activation\n",
    "from keras.layers import LSTM, TimeDistributed"
   ]
  },
  {
   "cell_type": "code",
   "execution_count": 2,
   "metadata": {
    "collapsed": true
   },
   "outputs": [],
   "source": [
    "X_train = np.load('X_train.npy')\n",
    "Y_train = np.load('Y_train.npy')\n",
    "\n",
    "data = np.vstack((seq for seq in X_train))\n",
    "\n",
    "mean = data.mean(axis=0)\n",
    "std = data.std(axis=0)"
   ]
  },
  {
   "cell_type": "code",
   "execution_count": 3,
   "metadata": {
    "collapsed": false
   },
   "outputs": [
    {
     "data": {
      "text/plain": [
       "(array([ 0.1462929 ,  0.50185493,  0.6907397 ,  0.12843124]),\n",
       " array([ 0.22144724,  0.08731423,  0.24911765,  0.13013665]))"
      ]
     },
     "execution_count": 3,
     "metadata": {},
     "output_type": "execute_result"
    }
   ],
   "source": [
    "mean, std"
   ]
  },
  {
   "cell_type": "code",
   "execution_count": 4,
   "metadata": {
    "collapsed": true
   },
   "outputs": [],
   "source": [
    "for batch in range(len(X_train)):\n",
    "    X_train[batch] = (X_train[batch] - mean)/std\n",
    "X_train = np.array(X_train)\n",
    "Y_train = (Y_train - mean)/std"
   ]
  },
  {
   "cell_type": "code",
   "execution_count": 5,
   "metadata": {
    "collapsed": false
   },
   "outputs": [
    {
     "data": {
      "text/plain": [
       "((16348, 10, 4), (16348, 4))"
      ]
     },
     "execution_count": 5,
     "metadata": {},
     "output_type": "execute_result"
    }
   ],
   "source": [
    "X_train.shape, Y_train.shape"
   ]
  },
  {
   "cell_type": "code",
   "execution_count": 8,
   "metadata": {
    "collapsed": false
   },
   "outputs": [
    {
     "data": {
      "image/svg+xml": [
       "<svg height=\"337pt\" viewBox=\"0.00 0.00 233.56 337.00\" width=\"234pt\" xmlns=\"http://www.w3.org/2000/svg\" xmlns:xlink=\"http://www.w3.org/1999/xlink\">\n",
       "<g class=\"graph\" id=\"graph0\" transform=\"scale(1 1) rotate(0) translate(4 333)\">\n",
       "<title>G</title>\n",
       "<polygon fill=\"white\" points=\"-4,4 -4,-333 229.562,-333 229.562,4 -4,4\" stroke=\"none\"/>\n",
       "<!-- 4535831056 -->\n",
       "<g class=\"node\" id=\"node1\"><title>4535831056</title>\n",
       "<polygon fill=\"none\" points=\"0,-292.5 0,-328.5 225.562,-328.5 225.562,-292.5 0,-292.5\" stroke=\"black\"/>\n",
       "<text font-family=\"Times,serif\" font-size=\"14.00\" text-anchor=\"middle\" x=\"112.781\" y=\"-306.3\">timedistributed_input_1 (InputLayer)</text>\n",
       "</g>\n",
       "<!-- 4535830864 -->\n",
       "<g class=\"node\" id=\"node2\"><title>4535830864</title>\n",
       "<polygon fill=\"none\" points=\"2.95996,-219.5 2.95996,-255.5 222.603,-255.5 222.603,-219.5 2.95996,-219.5\" stroke=\"black\"/>\n",
       "<text font-family=\"Times,serif\" font-size=\"14.00\" text-anchor=\"middle\" x=\"112.781\" y=\"-233.3\">timedistributed_1 (TimeDistributed)</text>\n",
       "</g>\n",
       "<!-- 4535831056&#45;&gt;4535830864 -->\n",
       "<g class=\"edge\" id=\"edge1\"><title>4535831056-&gt;4535830864</title>\n",
       "<path d=\"M112.781,-292.313C112.781,-284.289 112.781,-274.547 112.781,-265.569\" fill=\"none\" stroke=\"black\"/>\n",
       "<polygon fill=\"black\" points=\"116.281,-265.529 112.781,-255.529 109.281,-265.529 116.281,-265.529\" stroke=\"black\"/>\n",
       "</g>\n",
       "<!-- 4535830800 -->\n",
       "<g class=\"node\" id=\"node3\"><title>4535830800</title>\n",
       "<polygon fill=\"none\" points=\"60.6416,-146.5 60.6416,-182.5 164.921,-182.5 164.921,-146.5 60.6416,-146.5\" stroke=\"black\"/>\n",
       "<text font-family=\"Times,serif\" font-size=\"14.00\" text-anchor=\"middle\" x=\"112.781\" y=\"-160.3\">lstm_1 (LSTM)</text>\n",
       "</g>\n",
       "<!-- 4535830864&#45;&gt;4535830800 -->\n",
       "<g class=\"edge\" id=\"edge2\"><title>4535830864-&gt;4535830800</title>\n",
       "<path d=\"M112.781,-219.313C112.781,-211.289 112.781,-201.547 112.781,-192.569\" fill=\"none\" stroke=\"black\"/>\n",
       "<polygon fill=\"black\" points=\"116.281,-192.529 112.781,-182.529 109.281,-192.529 116.281,-192.529\" stroke=\"black\"/>\n",
       "</g>\n",
       "<!-- 4542754512 -->\n",
       "<g class=\"node\" id=\"node4\"><title>4542754512</title>\n",
       "<polygon fill=\"none\" points=\"60.6416,-73.5 60.6416,-109.5 164.921,-109.5 164.921,-73.5 60.6416,-73.5\" stroke=\"black\"/>\n",
       "<text font-family=\"Times,serif\" font-size=\"14.00\" text-anchor=\"middle\" x=\"112.781\" y=\"-87.3\">lstm_2 (LSTM)</text>\n",
       "</g>\n",
       "<!-- 4535830800&#45;&gt;4542754512 -->\n",
       "<g class=\"edge\" id=\"edge3\"><title>4535830800-&gt;4542754512</title>\n",
       "<path d=\"M112.781,-146.313C112.781,-138.289 112.781,-128.547 112.781,-119.569\" fill=\"none\" stroke=\"black\"/>\n",
       "<polygon fill=\"black\" points=\"116.281,-119.529 112.781,-109.529 109.281,-119.529 116.281,-119.529\" stroke=\"black\"/>\n",
       "</g>\n",
       "<!-- 4559501200 -->\n",
       "<g class=\"node\" id=\"node5\"><title>4559501200</title>\n",
       "<polygon fill=\"none\" points=\"57.938,-0.5 57.938,-36.5 167.625,-36.5 167.625,-0.5 57.938,-0.5\" stroke=\"black\"/>\n",
       "<text font-family=\"Times,serif\" font-size=\"14.00\" text-anchor=\"middle\" x=\"112.781\" y=\"-14.3\">dense_2 (Dense)</text>\n",
       "</g>\n",
       "<!-- 4542754512&#45;&gt;4559501200 -->\n",
       "<g class=\"edge\" id=\"edge4\"><title>4542754512-&gt;4559501200</title>\n",
       "<path d=\"M112.781,-73.3129C112.781,-65.2895 112.781,-55.5475 112.781,-46.5691\" fill=\"none\" stroke=\"black\"/>\n",
       "<polygon fill=\"black\" points=\"116.281,-46.5288 112.781,-36.5288 109.281,-46.5289 116.281,-46.5288\" stroke=\"black\"/>\n",
       "</g>\n",
       "</g>\n",
       "</svg>"
      ],
      "text/plain": [
       "<IPython.core.display.SVG object>"
      ]
     },
     "execution_count": 8,
     "metadata": {},
     "output_type": "execute_result"
    }
   ],
   "source": [
    "from IPython.display import SVG\n",
    "from keras.utils.visualize_util import model_to_dot\n",
    "\n",
    "SVG(model_to_dot(model).create(prog='dot', format='svg'))"
   ]
  },
  {
   "cell_type": "code",
   "execution_count": 6,
   "metadata": {
    "collapsed": false
   },
   "outputs": [],
   "source": [
    "data_dim = 4\n",
    "timesteps = 10\n",
    "num_labels = 4\n",
    "\n",
    "model = Sequential()\n",
    "model.add(TimeDistributed(Dense(42, activation='relu'), input_shape=(timesteps, data_dim)))\n",
    "model.add(LSTM(42, return_sequences=True))\n",
    "model.add(LSTM(42, return_sequences=False))\n",
    "model.add(Dense(num_labels, activation='sigmoid'))\n",
    "\n",
    "model.compile(loss='mean_squared_error',\n",
    "              optimizer='rmsprop',\n",
    "              metrics=['mean_absolute_percentage_error'])"
   ]
  },
  {
   "cell_type": "code",
   "execution_count": 177,
   "metadata": {
    "collapsed": false,
    "scrolled": false
   },
   "outputs": [
    {
     "name": "stdout",
     "output_type": "stream",
     "text": [
      "Epoch 1/10\n",
      "16348/16348 [==============================] - 30s - loss: 0.5973 - mean_absolute_percentage_error: 81.2957    \n",
      "Epoch 2/10\n",
      "16348/16348 [==============================] - 30s - loss: 0.5972 - mean_absolute_percentage_error: 81.8684    \n",
      "Epoch 3/10\n",
      "16348/16348 [==============================] - 29s - loss: 0.5976 - mean_absolute_percentage_error: 81.5091    \n",
      "Epoch 4/10\n",
      "16348/16348 [==============================] - 29s - loss: 0.5972 - mean_absolute_percentage_error: 81.3078    \n",
      "Epoch 5/10\n",
      "16348/16348 [==============================] - 29s - loss: 0.5970 - mean_absolute_percentage_error: 81.4826    \n",
      "Epoch 6/10\n",
      "16348/16348 [==============================] - 30s - loss: 0.5971 - mean_absolute_percentage_error: 81.6497    \n",
      "Epoch 7/10\n",
      "16348/16348 [==============================] - 29s - loss: 0.5972 - mean_absolute_percentage_error: 81.3353    \n",
      "Epoch 8/10\n",
      "16348/16348 [==============================] - 29s - loss: 0.5971 - mean_absolute_percentage_error: 82.1506    \n",
      "Epoch 9/10\n",
      "16348/16348 [==============================] - 30s - loss: 0.5972 - mean_absolute_percentage_error: 82.6944    \n",
      "Epoch 10/10\n",
      "16348/16348 [==============================] - 30s - loss: 0.5973 - mean_absolute_percentage_error: 81.4238    \n"
     ]
    },
    {
     "data": {
      "text/plain": [
       "<keras.callbacks.History at 0x1123846d0>"
      ]
     },
     "execution_count": 177,
     "metadata": {},
     "output_type": "execute_result"
    }
   ],
   "source": [
    "model.fit(X_train, Y_train, batch_size=50, nb_epoch=10)"
   ]
  },
  {
   "cell_type": "code",
   "execution_count": 292,
   "metadata": {
    "collapsed": true
   },
   "outputs": [],
   "source": [
    "def generate_sample(font, BPM):\n",
    "    import midi, midi2vec2midi\n",
    "    from scipy.stats import threshold\n",
    "    num_events = 100 # directly proportional to sample duration\n",
    "    max_relative_timing = 250 # max spacing between events\n",
    "    max_note_duration = 150\n",
    "    starting_seq = X_train[np.random.randint(0,X_train.shape[0])]\n",
    "    for event_idx in range(num_events):\n",
    "        if (event_idx+1)%1000 == 0:\n",
    "            print \"On sample: \" + str(event_idx+1)\n",
    "        sample = X_train[np.random.randint(0,X_train.shape[0])]\n",
    "        prediction = model.predict(np.array([sample]))\n",
    "        #print prediction*np.array([max_relative_timing, 127, 127, max_note_duration])\n",
    "        starting_seq = np.vstack((starting_seq, sample[5:10]))\n",
    "        starting_seq = np.vstack((starting_seq, (prediction - mean)/std))\n",
    "    starting_seq = threshold(starting_seq*std + mean, threshmax=1, newval=1)\n",
    "    song = np.zeros((starting_seq.shape[0], 66)) - 1\n",
    "    song[:,0] = np.array([np.sum(starting_seq[:,0][:idx+1]) for idx in range(starting_seq.shape[0])])\n",
    "    song[:,0] = song[:,0]*max_relative_timing\n",
    "    song[:,1] = BPM\n",
    "    song[:,2] = font\n",
    "    song[:,3] = starting_seq[:,1]*90.\n",
    "    song[:,4] = starting_seq[:,2]*127.\n",
    "    song[:,5] = starting_seq[:,3]*max_note_duration\n",
    "    song = np.round(song)\n",
    "    pattern = midi2vec2midi.vector_to_midi(song.T)\n",
    "    midi.write_midifile('sample.mid', pattern)\n",
    "    return song"
   ]
  },
  {
   "cell_type": "code",
   "execution_count": 293,
   "metadata": {
    "collapsed": false,
    "scrolled": false
   },
   "outputs": [],
   "source": [
    "song = generate_sample(55, 30)"
   ]
  },
  {
   "cell_type": "code",
   "execution_count": 209,
   "metadata": {
    "collapsed": false
   },
   "outputs": [
    {
     "name": "stdout",
     "output_type": "stream",
     "text": [
      "____________________________________________________________________________________________________\n",
      "Layer (type)                     Output Shape          Param #     Connected to                     \n",
      "====================================================================================================\n",
      "timedistributed_1 (TimeDistribute(None, 10, 42)        210         timedistributed_input_1[0][0]    \n",
      "____________________________________________________________________________________________________\n",
      "lstm_1 (LSTM)                    (None, 10, 42)        14280       timedistributed_1[0][0]          \n",
      "____________________________________________________________________________________________________\n",
      "lstm_2 (LSTM)                    (None, 42)            14280       lstm_1[0][0]                     \n",
      "____________________________________________________________________________________________________\n",
      "dense_2 (Dense)                  (None, 4)             172         lstm_2[0][0]                     \n",
      "====================================================================================================\n",
      "Total params: 28942\n",
      "____________________________________________________________________________________________________\n"
     ]
    }
   ],
   "source": [
    "#model.load_weights('weights.h5', by_name=False) # loads the weights of the model from a HDF5 file\n",
    "model.save_weights('weights.h5') # saves the weights of the model as a HDF5 file.\n",
    "\n",
    "model.summary() # prints a summary representation of your model.\n",
    "model.get_config() # returns a dictionary containing the configuration of the model. \n",
    "\n",
    "#The model can be reinstantiated from its config via:\n",
    "\n",
    "config = model.get_config()\n",
    "#model = Sequential.from_config(config)"
   ]
  },
  {
   "cell_type": "code",
   "execution_count": null,
   "metadata": {
    "collapsed": true
   },
   "outputs": [],
   "source": []
  },
  {
   "cell_type": "code",
   "execution_count": null,
   "metadata": {
    "collapsed": true
   },
   "outputs": [],
   "source": []
  }
 ],
 "metadata": {
  "anaconda-cloud": {},
  "kernelspec": {
   "display_name": "Python 2",
   "language": "python",
   "name": "python2"
  },
  "language_info": {
   "codemirror_mode": {
    "name": "ipython",
    "version": 2
   },
   "file_extension": ".py",
   "mimetype": "text/x-python",
   "name": "python",
   "nbconvert_exporter": "python",
   "pygments_lexer": "ipython2",
   "version": "2.7.12"
  }
 },
 "nbformat": 4,
 "nbformat_minor": 1
}
